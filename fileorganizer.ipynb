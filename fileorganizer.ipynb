{
 "cells": [
  {
   "cell_type": "code",
   "execution_count": 1,
   "metadata": {
    "executionInfo": {
     "elapsed": 324,
     "status": "ok",
     "timestamp": 1629807567908,
     "user": {
      "displayName": "Isacco Valsecchi",
      "photoUrl": "https://lh3.googleusercontent.com/a-/AOh14GhsE3N_0rvi4i7PTUy9okHWPKo4CtX-Vq2O3tR8K8M=s64",
      "userId": "14558454588425913231"
     },
     "user_tz": -120
    },
    "id": "HQ-JXQrxY82T"
   },
   "outputs": [],
   "source": [
    "import os\n",
    "import numpy as np\n",
    "from PIL import Image\n",
    "from tabulate import tabulate"
   ]
  },
  {
   "cell_type": "code",
   "execution_count": 2,
   "metadata": {
    "colab": {
     "base_uri": "https://localhost:8080/"
    },
    "executionInfo": {
     "elapsed": 13,
     "status": "ok",
     "timestamp": 1629807568243,
     "user": {
      "displayName": "Isacco Valsecchi",
      "photoUrl": "https://lh3.googleusercontent.com/a-/AOh14GhsE3N_0rvi4i7PTUy9okHWPKo4CtX-Vq2O3tR8K8M=s64",
      "userId": "14558454588425913231"
     },
     "user_tz": -120
    },
    "id": "tIGd_gfwrTCB",
    "outputId": "c26bf9bf-808c-4242-e2d7-d36ab8c37a3b"
   },
   "outputs": [
    {
     "name": "stdout",
     "output_type": "stream",
     "text": [
      "/content/drive/MyDrive/Colab Notebooks/start2impact/Data Science/Python&Numpy/FileOrganizer\n"
     ]
    }
   ],
   "source": [
    "# importo funzione organize_file dal modulo organize_file.py\n",
    "from organize_file import organize_file"
   ]
  },
  {
   "cell_type": "markdown",
   "metadata": {
    "id": "i3NIR1YsYXTw"
   },
   "source": [
    "#Step 1"
   ]
  },
  {
   "cell_type": "code",
   "execution_count": 3,
   "metadata": {
    "colab": {
     "base_uri": "https://localhost:8080/"
    },
    "executionInfo": {
     "elapsed": 9,
     "status": "ok",
     "timestamp": 1629807568243,
     "user": {
      "displayName": "Isacco Valsecchi",
      "photoUrl": "https://lh3.googleusercontent.com/a-/AOh14GhsE3N_0rvi4i7PTUy9okHWPKo4CtX-Vq2O3tR8K8M=s64",
      "userId": "14558454588425913231"
     },
     "user_tz": -120
    },
    "id": "9LqL5LZDYQD6",
    "outputId": "08a00fd0-60e6-4ba8-8b8a-14b3b5714c42"
   },
   "outputs": [
    {
     "name": "stdout",
     "output_type": "stream",
     "text": [
      "bw type:images size:94926B\n",
      "ciao type:docs size:12B\n",
      "daffodil type:images size:24657B\n",
      "eclipse type:images size:64243B\n",
      "pippo type:docs size:8299B\n",
      "song1 type:audio size:1087849B\n",
      "song2 type:audio size:764176B\n",
      "trump type:images size:10195B\n"
     ]
    }
   ],
   "source": [
    "dir_name = 'files'   # valore default per nome directory\n",
    "\n",
    "# se (e finchè) la directory 'files' non esiste nel path corrente\n",
    "while(not os.path.isdir(dir_name)):\n",
    "    # chiedo all'utente di inserire il path alla directory corretta\n",
    "    dir_name = input('\"{}\" directory not found. which directory would you use instead? (enter directory path) '.format(dir_name))\n",
    "\n",
    "# definisco dizionario che mappi i tipi di file alle estensioni\n",
    "types_dict = {'audio': ['.mp3','.wav','.mpeg'], 'images':['.jpg','.png','.jpeg'], 'docs':['.txt','.odt']}\n",
    "\n",
    "# apro file recap in scrittura (appending)\n",
    "recap = open(dir_name+'/'+'recap.csv', 'a')\n",
    "# apro file recap in sola lettura (per verificare unicità record)\n",
    "recap_readonly = open(dir_name+'/'+'recap.csv', 'r')\n",
    "\n",
    "# eseguo funzione su elementi directory 'files'\n",
    "for f in sorted(os.listdir(dir_name)):\n",
    "    organize_file(f, types_dict, recap, recap_readonly, dir_name)\n",
    "\n",
    "# chiudo i file\n",
    "recap.close()\n",
    "recap_readonly.close()"
   ]
  },
  {
   "cell_type": "markdown",
   "metadata": {
    "id": "U6kLBLW1YZDp"
   },
   "source": [
    "#Step 2"
   ]
  },
  {
   "cell_type": "code",
   "execution_count": 4,
   "metadata": {
    "colab": {
     "base_uri": "https://localhost:8080/"
    },
    "executionInfo": {
     "elapsed": 741,
     "status": "ok",
     "timestamp": 1629807568980,
     "user": {
      "displayName": "Isacco Valsecchi",
      "photoUrl": "https://lh3.googleusercontent.com/a-/AOh14GhsE3N_0rvi4i7PTUy9okHWPKo4CtX-Vq2O3tR8K8M=s64",
      "userId": "14558454588425913231"
     },
     "user_tz": -120
    },
    "id": "_pgUnBqCYaSb",
    "outputId": "575d2752-f1b9-44a1-d466-14b80cc12b6d"
   },
   "outputs": [
    {
     "name": "stdout",
     "output_type": "stream",
     "text": [
      "╒══════════╤══════════╤═════════╤═════════════╤══════════╤══════════╤══════════╤═════════╕\n",
      "│ name     │   height │   width │   grayscale │        r │        g │        b │   alpha │\n",
      "╞══════════╪══════════╪═════════╪═════════════╪══════════╪══════════╪══════════╪═════════╡\n",
      "│ bw       │      512 │     512 │     21.4801 │   0      │   0      │  0       │   0     │\n",
      "├──────────┼──────────┼─────────┼─────────────┼──────────┼──────────┼──────────┼─────────┤\n",
      "│ daffodil │      500 │     335 │      0      │ 109.251  │  85.5552 │  4.96729 │   0     │\n",
      "├──────────┼──────────┼─────────┼─────────────┼──────────┼──────────┼──────────┼─────────┤\n",
      "│ eclipse  │      256 │     256 │      0      │ 109.05   │ 109.522  │ 39.849   │ 133.591 │\n",
      "├──────────┼──────────┼─────────┼─────────────┼──────────┼──────────┼──────────┼─────────┤\n",
      "│ trump    │      183 │     275 │      0      │  97.0108 │  98.9941 │ 90.9238  │   0     │\n",
      "╘══════════╧══════════╧═════════╧═════════════╧══════════╧══════════╧══════════╧═════════╛\n"
     ]
    }
   ],
   "source": [
    "# TABELLA RIASSUNTIVA IMGS\n",
    "# creo lista dove memorizzare caratteristiche immagini\n",
    "img_values = []\n",
    "IMGS_PATH = dir_name+'/'+'images'\n",
    "# itero su elementi directory 'images'\n",
    "for filename in sorted(os.listdir(IMGS_PATH)):\n",
    "    # verifico che il file sia un'img\n",
    "    if(os.path.splitext(IMGS_PATH+filename)[1] in types_dict['images']):\n",
    "        # apro immagine\n",
    "        img = Image.open(IMGS_PATH+'/'+filename)\n",
    "        # trasformo immagine in array numpy\n",
    "        img_arr = np.array(img)\n",
    "        # estraggo name, height, width\n",
    "        name = os.path.splitext(os.path.basename(IMGS_PATH+'/'+filename))[0]\n",
    "        height, width = img_arr.shape[:2]\n",
    "        # se l'img è in b/n\n",
    "        if(img_arr.ndim == 2):\n",
    "            # imposto valori grayscale, r, g, b, a\n",
    "            grayscale = img_arr.mean()\n",
    "            r, g, b = (0., 0., 0.)\n",
    "            a = 0.\n",
    "        # se img è a colori\n",
    "        elif(img_arr.ndim == 3):\n",
    "            # estraggo numero canali (livelli di colore)\n",
    "            channels = img_arr.shape[-1]\n",
    "            # se l'img è rgb\n",
    "            if(channels == 3):\n",
    "                # imposto valori grayscale, r, g, b, a\n",
    "                grayscale = 0.\n",
    "                r, g, b = [img_arr[:,:,i].mean() for i in range(channels)]\n",
    "                a = 0\n",
    "            # se l'img è rgba\n",
    "            elif(channels == 4):\n",
    "                # imposto valori grayscale, r, g, b, a\n",
    "                grayscale = 0.\n",
    "                r, g, b, a = [img_arr[:,:,i].mean() for i in range(channels)]\n",
    "        # aggiorno lista con caratteristiche img corrente\n",
    "        img_values.append({'name':name, 'height':height, 'width':width, 'grayscale':grayscale, 'r':r, 'g':g, 'b':b, 'alpha':a})\n",
    "# stampo tabella\n",
    "print(tabulate(img_values, headers='keys', tablefmt=\"fancy_grid\"))"
   ]
  }
 ],
 "metadata": {
  "colab": {
   "authorship_tag": "ABX9TyMOAC/N2iXB9Crd88A3annE",
   "collapsed_sections": [],
   "mount_file_id": "1IFD93CeNExZmFBakJqueih9dWbp7Nyx6",
   "name": "fileorganizer.ipynb",
   "provenance": []
  },
  "kernelspec": {
   "display_name": "Python 3",
   "language": "python",
   "name": "python3"
  },
  "language_info": {
   "codemirror_mode": {
    "name": "ipython",
    "version": 3
   },
   "file_extension": ".py",
   "mimetype": "text/x-python",
   "name": "python",
   "nbconvert_exporter": "python",
   "pygments_lexer": "ipython3",
   "version": "3.7.3"
  }
 },
 "nbformat": 4,
 "nbformat_minor": 1
}
